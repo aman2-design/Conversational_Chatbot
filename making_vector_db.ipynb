{
 "cells": [
  {
   "cell_type": "code",
   "execution_count": 9,
   "metadata": {},
   "outputs": [],
   "source": [
    "# This notebook will generate vector stores which consists of two data \n",
    "# 1. FAQ generated using llm to handle generic questions.\n",
    "# 2. Pdf of data to handle context based questions specific to that pdf\n",
    "\n",
    "# Adding both in vector store so that later used in integration"
   ]
  },
  {
   "cell_type": "markdown",
   "metadata": {},
   "source": [
    "# 1. FAQ generated using llm to handle generic questions.\n"
   ]
  },
  {
   "cell_type": "code",
   "execution_count": 10,
   "metadata": {},
   "outputs": [],
   "source": [
    "from langchain_community.vectorstores import FAISS\n",
    "from langchain.prompts import PromptTemplate\n",
    "from langchain_ollama.llms import OllamaLLM\n",
    "import pandas as pd\n",
    "from langchain.text_splitter import RecursiveCharacterTextSplitter\n",
    "from langchain.schema import Document  # Import Document schema\n",
    "from langchain_google_genai import GoogleGenerativeAIEmbeddings\n",
    "from langchain_community.document_loaders import PyPDFLoader\n",
    "\n"
   ]
  },
  {
   "cell_type": "code",
   "execution_count": 11,
   "metadata": {},
   "outputs": [
    {
     "name": "stdout",
     "output_type": "stream",
     "text": [
      "langchain_community version: 0.2.10\n",
      "langchain version: 0.2.12\n",
      "langchain_ollama version: 0.1.3\n",
      "pandas version: 2.2.2\n",
      "langchain_google_genai version: 1.0.10\n"
     ]
    }
   ],
   "source": [
    "# to check the version of libraries installed\n",
    "\n",
    "import pkg_resources\n",
    "\n",
    "# List of packages to check\n",
    "packages = [\n",
    "    \"langchain_community\", \n",
    "    \"langchain\", \n",
    "    \"langchain_ollama\", \n",
    "    \"pandas\", \n",
    "    \"langchain_google_genai\"\n",
    "]\n",
    "\n",
    "# Print package versions\n",
    "for package in packages:\n",
    "    try:\n",
    "        version = pkg_resources.get_distribution(package).version\n",
    "        print(f\"{package} version: {version}\")\n",
    "    except pkg_resources.DistributionNotFound:\n",
    "        print(f\"{package} is not installed.\")"
   ]
  },
  {
   "cell_type": "code",
   "execution_count": 12,
   "metadata": {},
   "outputs": [],
   "source": [
    "llm = OllamaLLM(model=\"gemma\")"
   ]
  },
  {
   "cell_type": "code",
   "execution_count": 13,
   "metadata": {},
   "outputs": [
    {
     "name": "stdout",
     "output_type": "stream",
     "text": [
      "input_variables=['context_name', 'count'] template='\\nYou are an expert analyzer. Create total {count} multiple FAQs in the context of {context_name} insurance policies. \\nProvide the output in the following JSON format, not string format:\\n[\\n    {{\\n        \"id\": 1,\\n        \"question\": \"What is company insurance?\",\\n        \"answer\": \"Company insurance is...\"\\n    }},\\n    {{\\n        \"id\": 2,\\n        \"question\": \"How does liability insurance work?\",\\n        \"answer\": \"Liability insurance works...\"\\n    }}\\n]\\n'\n"
     ]
    }
   ],
   "source": [
    "prompt_template = \"\"\"\n",
    "You are an expert analyzer. Create total {count} multiple FAQs in the context of {context_name} insurance policies. \n",
    "Provide the output in the following JSON format, not string format:\n",
    "[\n",
    "    {{\n",
    "        \"id\": 1,\n",
    "        \"question\": \"What is company insurance?\",\n",
    "        \"answer\": \"Company insurance is...\"\n",
    "    }},\n",
    "    {{\n",
    "        \"id\": 2,\n",
    "        \"question\": \"How does liability insurance work?\",\n",
    "        \"answer\": \"Liability insurance works...\"\n",
    "    }}\n",
    "]\n",
    "\"\"\"\n",
    "\n",
    "prompt = PromptTemplate(input_variables=[\"context_name\",\"count\"], template=prompt_template)\n",
    "\n",
    "print(prompt)"
   ]
  },
  {
   "cell_type": "code",
   "execution_count": 14,
   "metadata": {},
   "outputs": [],
   "source": [
    "# Create an LLMChain for processing the prompt\n",
    "\n",
    "chain = prompt | llm"
   ]
  },
  {
   "cell_type": "code",
   "execution_count": 15,
   "metadata": {},
   "outputs": [
    {
     "name": "stdout",
     "output_type": "stream",
     "text": [
      "first=PromptTemplate(input_variables=['context_name', 'count'], template='\\nYou are an expert analyzer. Create total {count} multiple FAQs in the context of {context_name} insurance policies. \\nProvide the output in the following JSON format, not string format:\\n[\\n    {{\\n        \"id\": 1,\\n        \"question\": \"What is company insurance?\",\\n        \"answer\": \"Company insurance is...\"\\n    }},\\n    {{\\n        \"id\": 2,\\n        \"question\": \"How does liability insurance work?\",\\n        \"answer\": \"Liability insurance works...\"\\n    }}\\n]\\n') last=OllamaLLM(model='gemma', _client=<ollama._client.Client object at 0x000001BEF8DB3E60>, _async_client=<ollama._client.AsyncClient object at 0x000001BEFC069130>)\n"
     ]
    }
   ],
   "source": [
    "print(chain)"
   ]
  },
  {
   "cell_type": "code",
   "execution_count": 16,
   "metadata": {},
   "outputs": [
    {
     "name": "stdout",
     "output_type": "stream",
     "text": [
      "[\n",
      "    {\n",
      "        \"id\": 1,\n",
      "        \"question\": \"What is the purpose of Tech Mahindra's employee insurance policy?\",\n",
      "        \"answer\": \"The policy provides financial protection to employees in the event of illness, injury, or other covered events.\"\n",
      "    },\n",
      "    {\n",
      "        \"id\": 2,\n",
      "        \"question\": \"What types of coverage are typically included in the policy?\",\n",
      "        \"answer\": \"The policy covers hospitalization, surgical expenses, maternity expenses, critical illnesses, and other specified benefits.\"\n",
      "    },\n",
      "    {\n",
      "        \"id\": 3,\n",
      "        \"question\": \"How do employees qualify for coverage under the policy?\",\n",
      "        \"answer\": \"Employees are eligible for coverage based on their employment status and company policy guidelines.\"\n",
      "    },\n",
      "    {\n",
      "        \"id\": 4,\n",
      "        \"question\": \"What is the claims process for the employee insurance policy?\",\n",
      "        \"answer\": \"Employees should submit a claim form along with necessary documentation to the insurance provider.\"\n",
      "    },\n",
      "    {\n",
      "        \"id\": 5,\n",
      "        \"question\": \"Where can employees find more information about the company insurance policy?\",\n",
      "        \"answer\": \"Employees can refer to the company's intranet or contact the HR department for detailed policy information and guidelines.\"\n",
      "    }\n",
      "]\n"
     ]
    }
   ],
   "source": [
    "response = chain.invoke(input={\"context_name\": \"Tech Mahindra employees insurance policy\", \"count\": 5})\n",
    "print(response)"
   ]
  },
  {
   "cell_type": "code",
   "execution_count": 17,
   "metadata": {},
   "outputs": [
    {
     "name": "stdout",
     "output_type": "stream",
     "text": [
      "Output saved to output_faqs.json\n"
     ]
    }
   ],
   "source": [
    "# storing above response in a json file\n",
    "\n",
    "import json\n",
    "\n",
    "try:\n",
    "    # Parse the string response to valid JSON format\n",
    "    parsed_output = json.loads(response)\n",
    "except json.JSONDecodeError as e:\n",
    "    print(f\"Error decoding JSON: {e}\")\n",
    "    parsed_output = {}\n",
    "\n",
    "# Save the output to a JSON file\n",
    "output_file_path = \"output_faqs.json\"\n",
    "\n",
    "with open(output_file_path, \"w\") as json_file:\n",
    "    json.dump(parsed_output, json_file, indent=4)\n",
    "\n",
    "print(f\"Output saved to {output_file_path}\")"
   ]
  },
  {
   "cell_type": "code",
   "execution_count": 18,
   "metadata": {},
   "outputs": [],
   "source": [
    "# converting to a dataframe\n",
    "df = pd.DataFrame(parsed_output)\n",
    "\n",
    "df.to_csv(\"faqs.csv\")"
   ]
  },
  {
   "cell_type": "code",
   "execution_count": 19,
   "metadata": {},
   "outputs": [
    {
     "data": {
      "text/html": [
       "<div>\n",
       "<style scoped>\n",
       "    .dataframe tbody tr th:only-of-type {\n",
       "        vertical-align: middle;\n",
       "    }\n",
       "\n",
       "    .dataframe tbody tr th {\n",
       "        vertical-align: top;\n",
       "    }\n",
       "\n",
       "    .dataframe thead th {\n",
       "        text-align: right;\n",
       "    }\n",
       "</style>\n",
       "<table border=\"1\" class=\"dataframe\">\n",
       "  <thead>\n",
       "    <tr style=\"text-align: right;\">\n",
       "      <th></th>\n",
       "      <th>id</th>\n",
       "      <th>question</th>\n",
       "      <th>answer</th>\n",
       "    </tr>\n",
       "  </thead>\n",
       "  <tbody>\n",
       "    <tr>\n",
       "      <th>0</th>\n",
       "      <td>1</td>\n",
       "      <td>What is the purpose of Tech Mahindra's employe...</td>\n",
       "      <td>The policy provides financial protection to em...</td>\n",
       "    </tr>\n",
       "    <tr>\n",
       "      <th>1</th>\n",
       "      <td>2</td>\n",
       "      <td>What types of coverage are typically included ...</td>\n",
       "      <td>The policy covers hospitalization, surgical ex...</td>\n",
       "    </tr>\n",
       "    <tr>\n",
       "      <th>2</th>\n",
       "      <td>3</td>\n",
       "      <td>How do employees qualify for coverage under th...</td>\n",
       "      <td>Employees are eligible for coverage based on t...</td>\n",
       "    </tr>\n",
       "    <tr>\n",
       "      <th>3</th>\n",
       "      <td>4</td>\n",
       "      <td>What is the claims process for the employee in...</td>\n",
       "      <td>Employees should submit a claim form along wit...</td>\n",
       "    </tr>\n",
       "    <tr>\n",
       "      <th>4</th>\n",
       "      <td>5</td>\n",
       "      <td>Where can employees find more information abou...</td>\n",
       "      <td>Employees can refer to the company's intranet ...</td>\n",
       "    </tr>\n",
       "  </tbody>\n",
       "</table>\n",
       "</div>"
      ],
      "text/plain": [
       "   id                                           question  \\\n",
       "0   1  What is the purpose of Tech Mahindra's employe...   \n",
       "1   2  What types of coverage are typically included ...   \n",
       "2   3  How do employees qualify for coverage under th...   \n",
       "3   4  What is the claims process for the employee in...   \n",
       "4   5  Where can employees find more information abou...   \n",
       "\n",
       "                                              answer  \n",
       "0  The policy provides financial protection to em...  \n",
       "1  The policy covers hospitalization, surgical ex...  \n",
       "2  Employees are eligible for coverage based on t...  \n",
       "3  Employees should submit a claim form along wit...  \n",
       "4  Employees can refer to the company's intranet ...  "
      ]
     },
     "execution_count": 19,
     "metadata": {},
     "output_type": "execute_result"
    }
   ],
   "source": [
    "df = pd.read_csv(\"faqs.csv\",usecols=[\"id\",\"question\",\"answer\"] )\n",
    "df"
   ]
  },
  {
   "cell_type": "code",
   "execution_count": 20,
   "metadata": {},
   "outputs": [
    {
     "data": {
      "text/html": [
       "<div>\n",
       "<style scoped>\n",
       "    .dataframe tbody tr th:only-of-type {\n",
       "        vertical-align: middle;\n",
       "    }\n",
       "\n",
       "    .dataframe tbody tr th {\n",
       "        vertical-align: top;\n",
       "    }\n",
       "\n",
       "    .dataframe thead th {\n",
       "        text-align: right;\n",
       "    }\n",
       "</style>\n",
       "<table border=\"1\" class=\"dataframe\">\n",
       "  <thead>\n",
       "    <tr style=\"text-align: right;\">\n",
       "      <th></th>\n",
       "      <th>id</th>\n",
       "      <th>question</th>\n",
       "      <th>answer</th>\n",
       "      <th>content</th>\n",
       "    </tr>\n",
       "  </thead>\n",
       "  <tbody>\n",
       "    <tr>\n",
       "      <th>0</th>\n",
       "      <td>1</td>\n",
       "      <td>What is the purpose of Tech Mahindra's employe...</td>\n",
       "      <td>The policy provides financial protection to em...</td>\n",
       "      <td>What is the purpose of Tech Mahindra's employe...</td>\n",
       "    </tr>\n",
       "    <tr>\n",
       "      <th>1</th>\n",
       "      <td>2</td>\n",
       "      <td>What types of coverage are typically included ...</td>\n",
       "      <td>The policy covers hospitalization, surgical ex...</td>\n",
       "      <td>What types of coverage are typically included ...</td>\n",
       "    </tr>\n",
       "    <tr>\n",
       "      <th>2</th>\n",
       "      <td>3</td>\n",
       "      <td>How do employees qualify for coverage under th...</td>\n",
       "      <td>Employees are eligible for coverage based on t...</td>\n",
       "      <td>How do employees qualify for coverage under th...</td>\n",
       "    </tr>\n",
       "    <tr>\n",
       "      <th>3</th>\n",
       "      <td>4</td>\n",
       "      <td>What is the claims process for the employee in...</td>\n",
       "      <td>Employees should submit a claim form along wit...</td>\n",
       "      <td>What is the claims process for the employee in...</td>\n",
       "    </tr>\n",
       "    <tr>\n",
       "      <th>4</th>\n",
       "      <td>5</td>\n",
       "      <td>Where can employees find more information abou...</td>\n",
       "      <td>Employees can refer to the company's intranet ...</td>\n",
       "      <td>Where can employees find more information abou...</td>\n",
       "    </tr>\n",
       "  </tbody>\n",
       "</table>\n",
       "</div>"
      ],
      "text/plain": [
       "   id                                           question  \\\n",
       "0   1  What is the purpose of Tech Mahindra's employe...   \n",
       "1   2  What types of coverage are typically included ...   \n",
       "2   3  How do employees qualify for coverage under th...   \n",
       "3   4  What is the claims process for the employee in...   \n",
       "4   5  Where can employees find more information abou...   \n",
       "\n",
       "                                              answer  \\\n",
       "0  The policy provides financial protection to em...   \n",
       "1  The policy covers hospitalization, surgical ex...   \n",
       "2  Employees are eligible for coverage based on t...   \n",
       "3  Employees should submit a claim form along wit...   \n",
       "4  Employees can refer to the company's intranet ...   \n",
       "\n",
       "                                             content  \n",
       "0  What is the purpose of Tech Mahindra's employe...  \n",
       "1  What types of coverage are typically included ...  \n",
       "2  How do employees qualify for coverage under th...  \n",
       "3  What is the claims process for the employee in...  \n",
       "4  Where can employees find more information abou...  "
      ]
     },
     "execution_count": 20,
     "metadata": {},
     "output_type": "execute_result"
    }
   ],
   "source": [
    "df['content'] = df['question'] + \"\\n\" + df['answer']\n",
    "df"
   ]
  },
  {
   "cell_type": "code",
   "execution_count": 21,
   "metadata": {},
   "outputs": [
    {
     "data": {
      "text/plain": [
       "[Document(metadata={'id': 1}, page_content='The policy provides financial protection to employees in the event of illness, injury, or other covered events.'),\n",
       " Document(metadata={'id': 2}, page_content='The policy covers hospitalization, surgical expenses, maternity expenses, critical illnesses, and other specified benefits.'),\n",
       " Document(metadata={'id': 3}, page_content='Employees are eligible for coverage based on their employment status and company policy guidelines.'),\n",
       " Document(metadata={'id': 4}, page_content='Employees should submit a claim form along with necessary documentation to the insurance provider.'),\n",
       " Document(metadata={'id': 5}, page_content=\"Employees can refer to the company's intranet or contact the HR department for detailed policy information and guidelines.\")]"
      ]
     },
     "execution_count": 21,
     "metadata": {},
     "output_type": "execute_result"
    }
   ],
   "source": [
    "documents = [Document(page_content=row['answer'], metadata={\"id\": row['id']}) for _, row in df.iterrows()]\n",
    "documents"
   ]
  },
  {
   "cell_type": "code",
   "execution_count": 22,
   "metadata": {},
   "outputs": [
    {
     "data": {
      "text/plain": [
       "[Document(metadata={'id': 1}, page_content='The policy provides financial protection to employees in the event of illness, injury, or other'),\n",
       " Document(metadata={'id': 1}, page_content='covered events.'),\n",
       " Document(metadata={'id': 2}, page_content='The policy covers hospitalization, surgical expenses, maternity expenses, critical illnesses, and'),\n",
       " Document(metadata={'id': 2}, page_content='other specified benefits.'),\n",
       " Document(metadata={'id': 3}, page_content='Employees are eligible for coverage based on their employment status and company policy guidelines.'),\n",
       " Document(metadata={'id': 4}, page_content='Employees should submit a claim form along with necessary documentation to the insurance provider.'),\n",
       " Document(metadata={'id': 5}, page_content=\"Employees can refer to the company's intranet or contact the HR department for detailed policy\"),\n",
       " Document(metadata={'id': 5}, page_content='information and guidelines.')]"
      ]
     },
     "execution_count": 22,
     "metadata": {},
     "output_type": "execute_result"
    }
   ],
   "source": [
    "splitter = RecursiveCharacterTextSplitter(chunk_size=100, chunk_overlap=1)\n",
    "split_docs = splitter.split_documents(documents)\n",
    "split_docs "
   ]
  },
  {
   "cell_type": "code",
   "execution_count": 23,
   "metadata": {},
   "outputs": [],
   "source": [
    "# before passing it to embedding model we have to convert it to strings\n",
    "\n",
    "texts = [doc.page_content for doc in split_docs]\n",
    "metadata = [doc.metadata for doc in split_docs]  #  metadata (e.g., id)\n"
   ]
  },
  {
   "cell_type": "code",
   "execution_count": 24,
   "metadata": {},
   "outputs": [
    {
     "data": {
      "text/plain": [
       "8"
      ]
     },
     "execution_count": 24,
     "metadata": {},
     "output_type": "execute_result"
    }
   ],
   "source": [
    "embeddings = GoogleGenerativeAIEmbeddings(model=\"models/embedding-001\")\n",
    "vectors = embeddings.embed_documents(texts)\n",
    "len(vectors)"
   ]
  },
  {
   "cell_type": "code",
   "execution_count": 25,
   "metadata": {},
   "outputs": [],
   "source": [
    "# in FAISS , we will strore below created vector_store in local to use it later\n",
    "# we are not using or saving above created vectors as FAISS is capable of storing and embedding both\n",
    "\n",
    "vector_store = FAISS.from_texts(\n",
    "    texts=texts, \n",
    "    embedding=embeddings, \n",
    "    metadatas=metadata\n",
    ")"
   ]
  },
  {
   "cell_type": "code",
   "execution_count": 26,
   "metadata": {},
   "outputs": [
    {
     "name": "stdout",
     "output_type": "stream",
     "text": [
      "FAISS index saved to faiss_index.bin\n"
     ]
    }
   ],
   "source": [
    "# Path to save the FAISS index\n",
    "faiss_index_path = \"faiss_index.bin\"\n",
    "\n",
    "# Save the FAISS index to disk\n",
    "vector_store.save_local(faiss_index_path)\n",
    "print(\"FAISS index saved to\", faiss_index_path)"
   ]
  },
  {
   "cell_type": "code",
   "execution_count": 27,
   "metadata": {},
   "outputs": [],
   "source": [
    "# loading stored FAISS  back here\n",
    "\n",
    "loaded_vector_store = FAISS.load_local(faiss_index_path, embeddings, allow_dangerous_deserialization=True)\n"
   ]
  },
  {
   "cell_type": "code",
   "execution_count": 28,
   "metadata": {},
   "outputs": [
    {
     "data": {
      "text/plain": [
       "[Document(metadata={'id': 1}, page_content='The policy provides financial protection to employees in the event of illness, injury, or other')]"
      ]
     },
     "execution_count": 28,
     "metadata": {},
     "output_type": "execute_result"
    }
   ],
   "source": [
    "query = \"What is included in the employee insurance policy?\"\n",
    "query_embedding = embeddings.embed_query(query)\n",
    "results = loaded_vector_store.similarity_search(query, k=1) \n",
    "results"
   ]
  },
  {
   "cell_type": "code",
   "execution_count": 29,
   "metadata": {},
   "outputs": [
    {
     "data": {
      "text/plain": [
       "768"
      ]
     },
     "execution_count": 29,
     "metadata": {},
     "output_type": "execute_result"
    }
   ],
   "source": [
    "len(query_embedding)"
   ]
  },
  {
   "cell_type": "code",
   "execution_count": 30,
   "metadata": {},
   "outputs": [
    {
     "name": "stdout",
     "output_type": "stream",
     "text": [
      "Matched Text: The policy provides financial protection to employees in the event of illness, injury, or other\n",
      "Metadata: {'id': 1}\n"
     ]
    }
   ],
   "source": [
    "# Display the results\n",
    "for result in results:\n",
    "    print(\"Matched Text:\", result.page_content)\n",
    "    print(\"Metadata:\", result.metadata)"
   ]
  },
  {
   "cell_type": "markdown",
   "metadata": {},
   "source": [
    "# 2. Insurance pdf to handle context based questions\n"
   ]
  },
  {
   "cell_type": "code",
   "execution_count": 31,
   "metadata": {},
   "outputs": [],
   "source": [
    "from langchain_community.document_loaders import PyPDFLoader\n",
    "pdf_file = PyPDFLoader(file_path = r\"D:\\GenAI/COVERSATIONAL_AI/EnrolPolicyConditions_24.pdf\")"
   ]
  },
  {
   "cell_type": "code",
   "execution_count": 32,
   "metadata": {},
   "outputs": [],
   "source": [
    "loader = pdf_file.load()"
   ]
  },
  {
   "cell_type": "code",
   "execution_count": 33,
   "metadata": {},
   "outputs": [],
   "source": [
    "splitter = RecursiveCharacterTextSplitter(chunk_size=200, chunk_overlap=5)\n",
    "split_docs_pdf = splitter.split_documents(loader)\n"
   ]
  },
  {
   "cell_type": "code",
   "execution_count": 34,
   "metadata": {},
   "outputs": [
    {
     "data": {
      "text/plain": [
       "448"
      ]
     },
     "execution_count": 34,
     "metadata": {},
     "output_type": "execute_result"
    }
   ],
   "source": [
    "texts_pdf = [doc.page_content for doc in split_docs_pdf]\n",
    "pdf_metadata = [{\"source\": \"pdf\", \"page\": i} for i in range(len(split_docs_pdf))]  # Example metadata\n",
    "\n",
    "\n",
    "embeddings = GoogleGenerativeAIEmbeddings(model=\"models/embedding-001\")\n",
    "vectors_pdf = embeddings.embed_documents(texts_pdf)\n",
    "len(vectors_pdf)"
   ]
  },
  {
   "cell_type": "code",
   "execution_count": 35,
   "metadata": {},
   "outputs": [
    {
     "data": {
      "text/plain": [
       "['e1cbe4b3-b1c6-4d72-94ab-78b4b3a2954a',\n",
       " 'a7913a1d-e7c3-4a3a-891b-c0bc39fbbc61',\n",
       " '074cbe58-142c-4c29-9c03-d09253db1d84',\n",
       " '6bf1cf8d-07df-4822-bba8-a737d51b7f60',\n",
       " '2ebf7097-2e42-4e8e-b3a0-cddcfc0c9c06',\n",
       " '141a6904-4547-4ea8-975b-eb35e1f1298f',\n",
       " 'd93593f3-62fa-4a0e-834e-9bac88d0a9e2',\n",
       " 'e26c2208-b78b-4f69-84ef-7f4d19f96050',\n",
       " '95da97f0-6b63-4b78-89ac-81ccd1be4f02',\n",
       " '5b28931a-222d-4eb2-b283-d308cba43253',\n",
       " '3001c8af-ebde-4687-83ea-09c65bfb5831',\n",
       " '5ce8495d-8562-4aa2-a22b-543bb8d5128e',\n",
       " 'ba236c45-2f3b-4b7f-91df-c3c8bad548a0',\n",
       " 'f0a1d42e-a240-47bf-b17d-88229a99bf4b',\n",
       " '2830a694-d03f-4f56-953e-2bc74629b6df',\n",
       " 'bd2c0b0e-e7ea-45a1-9afb-b206e403b26b',\n",
       " 'd2186f5a-2357-4869-a0e8-dcc5b4e85bf9',\n",
       " '8ace82b7-ac83-459a-a436-1c0d1551259a',\n",
       " '9e15d777-aadf-419e-ad51-4b14153d1da8',\n",
       " 'b21de7e9-e0d8-499b-9229-1914c30a4534',\n",
       " '8c730927-ef84-48cb-823d-d503440a2cc6',\n",
       " '262b06e1-8947-4601-a20e-30284a9b034b',\n",
       " 'e5a3695f-4cc9-4800-9b16-53fdfbb13db8',\n",
       " '12db486e-c0e1-42a4-a3fa-3ca21f6f9786',\n",
       " '77ba2597-1b53-4c8e-a1ef-455dffadddac',\n",
       " '8dbefae0-5e6c-4d73-a464-62675755e94e',\n",
       " '3b1fb2e9-0ddb-4669-bc3e-138c2b69abb4',\n",
       " '210218e0-7b2f-4478-9017-c953ade99514',\n",
       " 'ce450977-7923-447c-a5bb-7b33f7fcebbd',\n",
       " 'f2ba01ae-5fff-47ba-9068-81681d2dfb88',\n",
       " '8a9521a0-dfa9-48c2-bdb3-d7c732456978',\n",
       " 'e2180ae3-bf47-4b08-a97c-5ecf772d7776',\n",
       " 'a3bbe6de-2623-44d4-b266-a1354fd18753',\n",
       " 'fca819ea-61e9-4172-824b-ed7ae7f4f463',\n",
       " '351e5e88-b6d0-406e-8e8b-0948db4e1884',\n",
       " '9e851cde-2bd9-44f6-b5b7-eef34fbf83dd',\n",
       " '10e760ca-7e5a-4096-a018-45b584f3b7c5',\n",
       " '897c44bc-74bf-47b3-9f87-2453ef6e97a1',\n",
       " 'd317d463-4292-4a20-9999-589dab480b74',\n",
       " '6a03f5f3-dc80-4d96-8d88-bb1a60331f02',\n",
       " '61d6d4c7-2b74-4337-9e40-ff340b243700',\n",
       " 'b3f5f2b0-cb9a-48df-a4e3-950383aba965',\n",
       " '0a28f772-0eb8-47b6-9bbe-8797fb2d55f7',\n",
       " 'f5ec4f03-19eb-4755-8033-49d851e00ace',\n",
       " 'bc74c51a-53c2-4d50-9f6a-60454c8a5b6a',\n",
       " '6a3a2cc1-0d70-4803-92b0-2620c6b37d9d',\n",
       " 'f710ef7c-eb50-47d0-bc94-0d6880199e5f',\n",
       " 'b4a79a91-6c1f-46a8-bbdc-9974291285da',\n",
       " '27c16e73-9dce-422f-999d-edd46a5fd709',\n",
       " '58c277ee-2323-4fe8-a6cd-bcd791b4bec8',\n",
       " '89583316-7619-4b74-a152-998f17a6456c',\n",
       " '9d530648-dfcd-46d0-84a6-c4cb1e48f9c1',\n",
       " '0a6c5854-c7d1-4824-bbeb-c81f3dbb091d',\n",
       " 'f498a7ad-b5d1-4131-9b8e-596003a50bb6',\n",
       " 'de2b5c79-2306-4563-87fd-411b3c1014a3',\n",
       " '892ff168-5c82-4ae3-9be4-2cbda8e93f8a',\n",
       " 'b1a8199f-32e0-460c-9cc8-0c8effa4dd51',\n",
       " '40ed2c45-9f11-4a25-8aa7-2e793b070f11',\n",
       " 'ddb9a20a-7650-4007-8dfa-c176dfbf71d5',\n",
       " '947b0549-56e3-41e7-a82d-b0ed57df6582',\n",
       " 'f567a83d-dfbe-4923-91ef-f156fe9a2326',\n",
       " '5d227df0-ec1b-4508-ac61-08e422239eed',\n",
       " '63c716e8-c169-4254-8955-619813a9df4a',\n",
       " '8f671b0f-9654-4fef-9434-013da7cd7ff1',\n",
       " '56b87d05-439c-49da-bb69-dd0ef77ffc7e',\n",
       " 'ce7e659e-2ac5-40c5-885a-9569aea02f87',\n",
       " '35ffbfdd-e2b9-48b5-9d55-1f8830d2f602',\n",
       " '47ab4718-0a5b-4913-b79b-7df1cb2702b3',\n",
       " '907fd765-dfb9-4ebd-a794-fcf68a9541e6',\n",
       " '1968810b-3d88-4922-94ee-efc2c897f0f3',\n",
       " 'ad4e898c-eaae-4ddc-8569-d463310a2371',\n",
       " '213c4699-9cd4-403f-b491-fd537138bec2',\n",
       " '3361c782-bf78-4c5d-88e2-825a1aa58269',\n",
       " '49766aa7-548f-4b88-bfb1-5f871815b5f6',\n",
       " '1e076973-a189-462e-b135-59b88d80765f',\n",
       " '53562191-bb56-4852-829c-74a3503fa54a',\n",
       " '063f1bd8-a77b-4fde-bf8e-d6589a425197',\n",
       " '03d8434b-d9d2-4b51-b270-2ce70a55e433',\n",
       " 'a67edf09-8db0-41e0-b5ea-a759f88aa6e5',\n",
       " '700df7fd-2741-4060-8d25-883017819a98',\n",
       " 'f1318a65-45bc-405e-80e7-0b6693d5aefe',\n",
       " '4e45db4f-b129-4d30-ab7b-969ded39992d',\n",
       " 'eb0a9ca5-ff59-4079-b0f3-c8485b4db91b',\n",
       " '2ce73280-3a2b-410d-9c5a-050f7c6f6bbe',\n",
       " 'e28d7e31-2320-4493-96f9-039e29d25413',\n",
       " '3448c566-3d22-4c61-bc82-22259b3202fa',\n",
       " 'fd961895-2b89-4891-bbc0-853156e78cc3',\n",
       " '211d4071-74a5-4776-92e7-22f2b0feb72b',\n",
       " '78e82ac8-eeb0-4ea3-860f-48c76aeff5a5',\n",
       " '97b3b0a8-3560-44a2-9fdb-32cb5a2615ef',\n",
       " '2410c189-3943-420d-ad71-6a3b98ff117f',\n",
       " 'f1bb40ed-838c-4295-b18b-a049df8e0957',\n",
       " 'a6fb26e6-92b2-4459-a8d2-c89da8d2df0b',\n",
       " 'df68c590-159c-4c90-804c-b60c1793557c',\n",
       " 'f6311752-28ac-4f7f-a1b4-2e1eeb10fcff',\n",
       " '43a4b51a-10d7-43a6-8b67-32e667598222',\n",
       " 'ec159ca6-2d23-4256-9f91-d141ec987456',\n",
       " '095be4fa-5ad2-4123-bc01-ac75e2e6ead9',\n",
       " 'b83ed4d2-6e30-49ca-9923-f2c31f26bb4b',\n",
       " '5ca75435-abe5-4b98-85c5-05a48d284be1',\n",
       " 'b7b54c91-8575-49aa-965f-7efadb01d449',\n",
       " '4948c95d-b24f-4024-a437-2e6efa6742f6',\n",
       " 'eafcae7f-b3f5-47a2-b323-ffc2dd4d820a',\n",
       " '75d77410-2034-4b68-88c1-56e753c2d984',\n",
       " 'eee0eed1-70c0-4cb5-a4cc-88764d682859',\n",
       " '03678708-85b9-4e36-881f-b1601d62876f',\n",
       " '3177adf9-eae6-4afa-af34-421bddc6967e',\n",
       " '2144238c-d193-4618-9959-e4f1f380b701',\n",
       " '7c460e31-fbfb-485d-aa4c-00e189c2bf29',\n",
       " '14ca7a00-690a-410a-987f-04b4f4b90362',\n",
       " 'bc950034-313e-495a-ac90-5aa3f7eaca25',\n",
       " 'ba0c2f1e-df0d-4306-8b40-f47b5598fc6d',\n",
       " 'acfce79a-29f8-4637-adbb-bc54a35dc3a4',\n",
       " 'b929ef23-61b0-4cc7-9816-0363c9013575',\n",
       " '1da72c18-ad9b-43a6-8269-cb8499aa7633',\n",
       " '1ecbe919-2f39-4da9-96cc-749f2cef6dc2',\n",
       " '47ade4c6-1439-48c9-aa1b-ad1af908385f',\n",
       " '67b6ff15-6537-45dc-96c7-85dbd067609e',\n",
       " '82724f82-a5cd-4f55-9d6d-351148560640',\n",
       " '69621a78-d037-4fc6-9034-fa763fa19c6c',\n",
       " 'b12c227d-375c-4b71-8d6c-bc8162fda2f0',\n",
       " 'c84c6d8d-9220-4ad9-a61b-9612eb359594',\n",
       " '0a303de9-134d-4f21-b225-f9b8be86477b',\n",
       " 'b2fbe213-a799-4bb4-889e-fc494ccce8f8',\n",
       " '842edf9b-1700-46cf-99b2-c34ad6252ef9',\n",
       " '423384f9-2aee-4ae0-9cdf-3a84356ebb55',\n",
       " '2fb2bdb7-3006-4cc7-a04d-29ff8b642921',\n",
       " '578f3f8b-99d9-41d5-973d-aeb31837c4d1',\n",
       " '25a19e4c-712a-46db-9ef3-17d09d46799f',\n",
       " 'ca13fff4-1485-4391-b2d3-105c56cce2f3',\n",
       " '6e20b4a0-4f50-455f-8c18-5e313de2e350',\n",
       " '1c47dc31-6fac-47ef-8dc5-ad6d9818d5fd',\n",
       " '114615e6-5a7e-45aa-b60d-871b2c7fd50c',\n",
       " '6506bcaf-9659-4dbd-a5c9-6dc1abefe075',\n",
       " 'cac35791-da1b-40c3-9672-e4c69f9eb481',\n",
       " '54c4a473-8d3b-43f1-a46b-ce350fcc5960',\n",
       " '60ed7d1e-b0dd-483c-9203-e062228bc471',\n",
       " 'af36852e-8d20-46e0-b657-26114e806a01',\n",
       " 'ff499fe1-c279-4486-aa27-a43528b998d1',\n",
       " '87af708c-1f44-4319-94a7-e59b85e5e0d4',\n",
       " '16288efb-028c-49b7-8b64-3e7bb00e97dd',\n",
       " 'c90c772a-a366-416b-9ffb-182b97c9bb52',\n",
       " '6cd4b86e-e4b9-4b19-81b4-480e1487cf68',\n",
       " '8d6e4f4c-4f38-4ffd-aba4-6957ebe47ed0',\n",
       " '3a4d8168-c104-4507-bfd8-ec268d9f0bd7',\n",
       " 'b5c7eda5-a666-4f29-9222-d37edae73b3c',\n",
       " '7a845af5-503f-4100-81ec-bdd7a883fc8d',\n",
       " 'e3486da0-2822-4d4f-8572-65b80c6eadff',\n",
       " 'f8d8d665-60fe-41b4-9ce5-c3bdddbb376b',\n",
       " 'd9e35ea6-b72b-4d72-9029-32acea8a567d',\n",
       " 'b6d8dd82-d5cf-4f1c-9aed-8d281a5f8303',\n",
       " 'b18edc28-6757-4a25-9a15-7314399c6bda',\n",
       " '98efb1a3-483f-43cf-9727-7a22c37555a4',\n",
       " 'b819f144-dff2-46ad-9dc6-9afaeeffccc0',\n",
       " '0d0dcc6b-0e33-4848-9189-0686aac99273',\n",
       " '0d1bde0b-b877-441f-a1e6-e83cbc232171',\n",
       " '99df0839-d149-45cd-a905-a8cf8b93e0a4',\n",
       " '9bd58a55-ca25-4e6b-8737-c8b982a7616a',\n",
       " 'e2ca10c9-a087-48c3-94ee-0ff960cfee9a',\n",
       " '3ee06b8f-6546-414d-84ff-3c29db5eba31',\n",
       " '613779a3-3619-48c5-b860-1d340513be81',\n",
       " 'e9ee7dce-9514-4f29-b375-fe3ef8e661cb',\n",
       " '0fe06943-e8d4-45a6-9181-7221ba4a95cc',\n",
       " '817e33ec-833a-48cf-afee-547419ef7baa',\n",
       " '060a5dd5-f975-4bfe-9d6f-90902a40e0ea',\n",
       " '20c4437b-4329-423f-a0d3-177bbb1b66c8',\n",
       " '2086ea97-acb6-4168-9be1-f9131415820d',\n",
       " 'cba06d4b-d55d-439b-91d4-21b87686ac43',\n",
       " 'cecbc5ca-e526-4c61-b2f3-2cc12b9888d4',\n",
       " 'b3da2bc5-1784-445f-ac7a-8c06dcdb0cd0',\n",
       " 'c34021bb-fe62-4de1-b3fc-bdc1bfcb54d6',\n",
       " 'dceaaa42-3b27-43e6-93b2-a923c97bbd4a',\n",
       " 'b30052dc-c3cc-48e3-9a15-094b9a4333f8',\n",
       " '912d8456-93a2-4343-9f19-2f64bba7844d',\n",
       " '954f31e6-c7d3-4428-a70f-94361ca92339',\n",
       " '58c0f769-c881-473c-a0c7-a1a262078401',\n",
       " '67d84679-b803-432c-90a6-033af21d974b',\n",
       " '52bc30fc-1452-4563-8d5c-395f60f577d5',\n",
       " '2e7591bc-52cf-43c6-8d14-9d8583d1a424',\n",
       " 'ce8882e8-9fab-4571-83ea-31d1e7ea9bb3',\n",
       " 'aaf43be3-e2cf-4bab-ab6d-272870a80127',\n",
       " 'ab5d5e1a-7146-4108-b6ac-043fd884db31',\n",
       " '6b34ae89-9aea-416c-a9fd-db6cdf6e281f',\n",
       " '29f48b05-454f-4186-95ef-426b0aa401e4',\n",
       " 'bceb9286-92b9-4e19-ad40-816c3ba7de2f',\n",
       " '70b0eb00-b1a6-437c-ac68-a301dcbad051',\n",
       " 'e59d792c-79a9-4771-8111-be37dc012087',\n",
       " 'fe2a4360-c229-49d5-bcf8-e49f5e3c109a',\n",
       " 'df616b6a-b96c-49ac-9ed9-435c4edafded',\n",
       " 'fd92407a-c59c-466b-be46-08ba9a92eb83',\n",
       " 'a1b20841-3aaa-4204-8cc4-df8453a6a3d2',\n",
       " '66d0ed82-6b43-4081-b660-adbd03b6923b',\n",
       " '6dee2746-35c0-40b4-9939-e438c4db8d37',\n",
       " '41f08fdf-bcc8-4218-9f90-56bc3a1350d1',\n",
       " 'f6604af8-e5e5-4c6f-a181-026d7e88fb17',\n",
       " 'c8279a0c-221b-4411-91b2-6d78bfe8cbde',\n",
       " 'b3cb6972-4f5c-4bd5-8a02-c7365b87dc18',\n",
       " '288ca944-9bc9-4e15-adc3-1f7910c6f2dd',\n",
       " 'be8d28a0-d4aa-4cb7-850c-204e6b35d46a',\n",
       " 'ad6e6351-6513-4d88-aacb-4ddeb0497466',\n",
       " '907c5f2b-f05a-4076-b646-cb92bdf8ddf0',\n",
       " 'fb64dbe3-f5d2-4a02-9da1-00f3475087b5',\n",
       " '5f893911-19ac-44b7-8fe7-e903c76c706e',\n",
       " '02f6a315-3814-4787-a409-4f64735b0440',\n",
       " '51132793-dc9a-403a-9a96-c63c80439306',\n",
       " '8eeb239e-2829-4c74-9032-73051f8302d1',\n",
       " 'ffeb34b7-a52c-4cdc-9bdc-eddc0036b898',\n",
       " '48483266-69e4-4c22-931b-ca782b930e82',\n",
       " '35efe332-9fa9-4d1f-bb41-cbca4319fdec',\n",
       " '36138a84-bbf2-4109-893f-cf93b042b333',\n",
       " 'a4ef557b-e114-4839-bdd9-d6c5af17211f',\n",
       " '90f3c1d8-7109-4ce5-b3cd-ac799df08e00',\n",
       " 'e6e15928-77a5-4ae3-8f32-6ee70d6a9fce',\n",
       " 'c0eca60f-949b-4793-9617-a609eab7cdb5',\n",
       " '273b6be2-c2f2-46e4-b778-bb427bdd5b61',\n",
       " '29c480f7-656a-4916-8d3e-45d2dfb959a4',\n",
       " 'c4e454f3-e83b-467b-a0dd-7a4ce8fd5b6b',\n",
       " 'f52d1990-7ea3-40f8-94e0-bf345bcfb05e',\n",
       " '993d7c46-5c48-4799-87f2-b1028a940b20',\n",
       " 'fab16de3-5b67-4152-b6fc-54aae5a1e40c',\n",
       " 'abc3e636-3873-4da3-b92c-711aea168017',\n",
       " 'a9c3e40d-5924-4428-9d9d-7dd32b2d4cf5',\n",
       " 'c2c2fefb-8fa3-499b-95f1-653b7e0d0544',\n",
       " '30bbb07c-eee3-4f25-abaf-bbcc9067dd19',\n",
       " '5085ef91-c5f4-4d41-84bb-9cb2cc4fbd09',\n",
       " '8d23d932-75d3-421a-8bdc-2359fb87a3c0',\n",
       " '99099419-31ba-47de-96fd-df6e9f52135b',\n",
       " 'f5ffc321-c6ca-48ac-b660-25882cf43425',\n",
       " 'd2991026-4ed3-4893-ae2e-b60c34d7fccf',\n",
       " '796c5284-94bc-419e-8ab3-eb62c020870e',\n",
       " 'e4f03d74-a0e0-4e59-9917-d04c7a47bb32',\n",
       " '1d2ee4a4-3009-465b-a7c5-a41eaafb5918',\n",
       " 'b23a9a5b-e1a6-4a41-8a75-dfebb22a96d4',\n",
       " 'f1f29335-ba6d-4a98-9c78-ef452e537bc2',\n",
       " 'fee63aba-4fc6-430c-b5f4-c8e121cf1e43',\n",
       " 'c23e4ded-45e9-4d2a-b808-7b3e0bc942fb',\n",
       " '743b7998-f66a-4008-8771-74c91fd68142',\n",
       " '77919558-24ca-4bb4-9ae2-3cf5983f79a8',\n",
       " '98901cf5-23be-44fa-a704-d28380c0b381',\n",
       " 'fb831128-9a1f-40b7-ac7b-e87fa182b382',\n",
       " 'a32b55b4-eb9f-4049-b075-f643cd91bc06',\n",
       " '1526bfc4-5628-466d-9a6b-8cb8922116c2',\n",
       " '2ffe7fdb-219d-42f4-8757-2f0cb5e2fead',\n",
       " 'f46b4c66-c18e-4d0d-ac7d-2356a34068e4',\n",
       " 'bc25dfc4-936a-4e86-a3d7-db8e5c79b252',\n",
       " 'ce353117-78df-4d5f-ad63-c55928318090',\n",
       " 'cd430c81-88db-49c4-a21e-10174abf4807',\n",
       " '7235bb4c-4db8-4d39-a20f-3199d1d8e335',\n",
       " '22b33921-9204-4ab4-ae4f-ce9d3837e1e6',\n",
       " 'e717fd2c-68cd-4b6b-9f25-63afdeb5f325',\n",
       " '19611888-5e3e-42a9-9c9e-99ca1d19617d',\n",
       " 'cc6b9b8f-de4a-4a4b-aad2-9591ba974fcd',\n",
       " '8eea0768-292f-413e-b0a9-f281d349070f',\n",
       " 'd39788b3-8a86-4b06-bacc-2f87585f8370',\n",
       " '680af16b-a31b-4ac1-a73e-8ded91bc918e',\n",
       " 'bf4c63ec-960c-4419-822c-05f43ffa457e',\n",
       " 'd0e7fdf9-a97f-488f-ac9f-b01143d1d39a',\n",
       " '79f38e16-abfc-4e04-a2bb-efc99f69aa67',\n",
       " 'c18f4e6c-1f98-43d2-8be7-46f3b97f1d5b',\n",
       " '73fbc831-c995-4b52-b926-42c72d93eabb',\n",
       " 'd74ef7b8-e35f-4df4-b6e7-bd62459365d2',\n",
       " '297d42ec-567b-42a0-8a65-820afe1c9d16',\n",
       " '47dee890-4af6-4803-9b41-bbc2daa78c98',\n",
       " '269f8cc1-9226-48a3-9843-d4388c68281c',\n",
       " '273f5f0b-7ee3-4ac2-a749-31f366ef72b7',\n",
       " '9d4655cc-efd0-48b2-9409-8518753f37c5',\n",
       " 'de64dd93-efa9-429c-9e92-f4ac27508fe0',\n",
       " 'f54025f2-1695-42d0-8778-988aeb737990',\n",
       " 'b6f11f7c-bf6c-476e-8d6f-8642da30c627',\n",
       " 'ab2f23b8-99ce-4df9-891b-8b625adfbd1b',\n",
       " '17d4fd2a-347c-4230-9b63-e11f8c60dbd6',\n",
       " 'e7b18885-224e-42ca-af76-cb3a7aa955e5',\n",
       " '8b3a87ad-6276-4bb4-87df-a1e199b269d4',\n",
       " '34bcf04f-7744-4a02-9dc8-62bfef2001bf',\n",
       " 'b1d0e46b-389b-4b61-81e2-480ded0f0eac',\n",
       " '4aff3fe5-0eda-486b-8054-2bc661163818',\n",
       " '82d8fe6d-70b5-4b73-93c2-2b14afccd142',\n",
       " '03691785-3e64-404a-ac7b-98194057b0c3',\n",
       " 'fbd069dc-bbb4-4f92-9bf0-c7a49944813a',\n",
       " '1fc56a6f-bb49-46d0-8364-8100fd9750a0',\n",
       " '2fc6c777-1fc6-4545-a00c-37b69dfd8187',\n",
       " 'b4dafd66-a1c0-422e-92e9-50f545b9789b',\n",
       " 'af669cee-e434-49c3-9853-e9fb83b2f405',\n",
       " '49ab51e0-3683-4c54-8b5c-1e1896ba7db3',\n",
       " '7970cfee-6722-4327-9586-b3b63a0a920d',\n",
       " 'eb2d6e2d-0c4d-4b52-a51f-3c15a9eb59b3',\n",
       " 'abef3980-3021-466b-b603-2b3c9413e689',\n",
       " 'a7ed137c-ffdb-4c4d-94e9-6cbf1cfc1be3',\n",
       " '973dd455-927c-4b51-bb14-993223e2cdb2',\n",
       " '8e9b9b52-8970-4107-b919-f61359a8d172',\n",
       " '942c797e-bd7b-4515-9196-7749201e6b1d',\n",
       " '0dace6bd-79e9-4d98-94f7-693faf997926',\n",
       " '9f97391c-caaa-442e-9b0f-5cc3fbcba8cc',\n",
       " 'd2d05713-a27e-4880-b23a-2d68f623e3af',\n",
       " '11b002f9-904b-4f52-a1a8-c630e18145fd',\n",
       " '0d7e46dd-7ac9-442d-9b76-278f523535c2',\n",
       " '6176a494-9428-488c-8140-9a8a18eb45f3',\n",
       " 'de1fb824-6aeb-4094-9732-ac7e2d7da226',\n",
       " 'a6611e78-e7da-4752-aa41-340734ffba23',\n",
       " '69114662-1de8-47c1-a9be-a89cd5a43b47',\n",
       " 'd4374c68-a9a9-4acd-94fa-d4e95255d6dd',\n",
       " '39e271a9-d7af-4386-8ed9-6ad765d0c196',\n",
       " 'e73e7bc7-6929-44f8-a9bf-875b190ab3f9',\n",
       " '553fc494-d175-424d-9975-4ca8264ef1ff',\n",
       " 'feca5d7b-951d-45e0-9833-d4d13b39ee42',\n",
       " '231752a1-785f-4fe7-8f26-f04f442b9615',\n",
       " '88c542c4-a7f2-456b-a2c3-f4e213edc84b',\n",
       " 'a9b98541-c01b-4962-86a8-78c364424913',\n",
       " 'a68e60bf-3f80-4bf5-af25-671bfe18227d',\n",
       " '3442d922-3ea3-446c-b2eb-db747ed87694',\n",
       " 'aca6f6b0-040b-4457-a925-107b5dd8db89',\n",
       " 'ef19e974-d459-45aa-886d-e938ae3be32d',\n",
       " '2b02e388-384c-465f-af80-0720bd4f446c',\n",
       " 'bb611ac8-cd94-4206-b7a9-24b2aa33c788',\n",
       " 'd083a57a-c261-47ed-972f-dac36b0ff1cf',\n",
       " 'c30a94c4-1b1a-4e39-b8ec-9c2fd6bb5900',\n",
       " '5474671d-2c6c-46cc-a0b5-aea697818168',\n",
       " 'fd2e4eb2-8bc7-4e03-84e7-30046dacc753',\n",
       " 'e27a9b7b-b9e0-4f77-aafb-a9a4077b50cf',\n",
       " '7a995424-ed4d-4d72-936b-3adddbc0b354',\n",
       " '541a0722-492d-4f3f-b30c-06bee0f75e80',\n",
       " '0c6010c2-7a12-4a5c-9d65-423bb14cdc66',\n",
       " '8cc02c76-de39-48eb-a9ee-2d59f8643fbf',\n",
       " '8bfb8885-f7ca-4781-a4c7-7d9484cc929b',\n",
       " '2dfb69a8-7247-4185-8efc-5b49024d0166',\n",
       " 'd26d3485-dcef-4d87-92db-ea18752c8c54',\n",
       " '1f5bd336-e067-4e8d-9535-86d9f45ce0d8',\n",
       " 'a4db44f8-0fda-41d9-a2b2-eb169c2d1951',\n",
       " '675be2cc-eb0c-48c1-8199-647d996d1e7a',\n",
       " 'a1099c2b-a841-4927-910d-9ffc4d26527c',\n",
       " 'f37f7059-b59a-4ac3-9b9a-d3f41ff7ab14',\n",
       " 'e2781679-c39f-41b9-86fe-d32d835a3651',\n",
       " 'eebbc33a-5fa1-4a5a-997e-19ad540467e7',\n",
       " 'b5774fb8-3466-4232-8b88-c68ed7913846',\n",
       " '1b546b71-6a7b-4b60-bdbf-882840799272',\n",
       " '20d0281a-b42d-4a24-ab0f-900d89341f27',\n",
       " 'ec45aa2b-7e16-4e16-8201-40bc97da536f',\n",
       " '2c1665fd-1ded-4ee9-816c-518789ad011b',\n",
       " '7dc54db0-1387-41f0-a1ba-8aa154262e9c',\n",
       " '7f716887-84b2-4d4b-a7d7-a4875d5faa72',\n",
       " 'a9b6e6c2-50d3-4734-a52f-e6c599c0ac82',\n",
       " '42f7a038-78a5-4e63-bfb6-d54845683ac2',\n",
       " 'b67f502e-37ac-4fca-bf9c-8197eac63f35',\n",
       " 'ce16868a-cc52-4329-a47d-9cb6b2c8facc',\n",
       " '9f40d845-8c9f-4729-8cc0-4f977f870726',\n",
       " 'e954cc79-2fc7-4ef7-91b6-db5fb39191ff',\n",
       " 'dd1039ee-e5fa-49c4-930c-96e186ea8782',\n",
       " 'f12abb57-ebe9-4546-80a0-644073322536',\n",
       " 'cc8494ec-d999-47f1-97c1-f64e5dcd4f30',\n",
       " '92d93d83-d63e-4ca0-9327-fc4c5692d309',\n",
       " '3341734c-88aa-4f5b-a259-3b6badf94f8b',\n",
       " 'f2c8d84f-606a-47c3-a1bd-dd92baa4951a',\n",
       " '8a625f4c-000f-4b5b-a0d4-2362d9babc50',\n",
       " 'a82ae78a-f1af-4394-b147-831e41e6b1d9',\n",
       " '98eab8ba-a344-4be3-9a86-d53ab5e01a78',\n",
       " '1c74126a-b57a-49d0-8b6b-a9e2f9e2ca04',\n",
       " 'a97d14f1-215d-44eb-9c7c-f5f9af447715',\n",
       " '9896b784-f113-46ce-947c-bbda0bf9a737',\n",
       " 'c1679a2f-a957-4b66-82f7-3a2e1b27679e',\n",
       " '0ce2508e-8bb4-4223-965e-4c2377c597d8',\n",
       " '1357f158-2380-42ac-ae89-a7661bd5de2a',\n",
       " '716449f3-edbc-418d-afbe-5c631f94fcab',\n",
       " 'ec44591e-6bac-4ffd-a455-e2d23bee09e8',\n",
       " '695b2c0a-a699-4b98-ab81-7b61b456b01c',\n",
       " '115be4ec-238c-497a-89ae-b4c59736fcf4',\n",
       " 'b7bd4246-b67d-4d10-81a4-82bee82f6df3',\n",
       " 'f65eef2e-0f8d-436a-9376-23be21f962e6',\n",
       " 'b3a57ee0-c17c-45bc-a384-cb16745f891f',\n",
       " 'cecd47a2-84b4-41ec-af1d-32fbabedb38a',\n",
       " 'a47042b0-202e-4dc9-bf66-b6ff9cf4c896',\n",
       " 'b249fd32-7e66-43e9-8252-54936c80a24e',\n",
       " 'd3a22c18-0991-4e33-abb5-62509fe10750',\n",
       " '2d746390-0d7b-4d67-8f67-5d45728ac640',\n",
       " 'e8086d0f-831e-4a6d-be4a-a0e8a248bf8f',\n",
       " '7229b5a0-2d2a-440f-bfea-5cb5e4964d7a',\n",
       " '2f7bd6ec-8eec-49b8-8909-01f2bb31826c',\n",
       " '8dc3a93a-f72b-48cd-bcbc-13c84bc8de80',\n",
       " 'f1e43d3c-3953-4440-9fa3-454fbc12ac0e',\n",
       " '3825c944-8ee8-4590-8d48-4e07e00d3edb',\n",
       " 'd5bdfc45-6042-4ebf-a1cb-0ef42423d4de',\n",
       " '0a64b3b8-1dbb-4c29-a274-4633e925b611',\n",
       " '9774fed3-0229-4462-992a-d8c70214045a',\n",
       " '0dbd1b15-6abf-455e-bdeb-f97a19e31b13',\n",
       " 'e5908a7b-0d79-4dc6-8030-f8e079bf3010',\n",
       " '371620a4-a630-47c8-b143-101d4b6eea45',\n",
       " 'ffd18621-27b6-431b-b8b3-da390c7c3ba2',\n",
       " '13c2d82f-2ffa-4a8a-bb8f-816e0d0c7d20',\n",
       " 'b4f1eb49-8224-4764-83b8-0c4d76f68e9b',\n",
       " '4518728f-95a2-4d3b-b997-2d8aa45aabf6',\n",
       " 'bd2208f2-f14f-4b8e-a568-41be511a6312',\n",
       " '8f87e4c4-64f4-4863-ad9c-226a603028e1',\n",
       " 'ec896225-c013-4dff-9a62-313d9f278f15',\n",
       " '65039188-fd9d-457a-97eb-c36b330e23de',\n",
       " '3626416c-a955-4497-abb3-56dc58038bfd',\n",
       " '89c59c5a-f91a-41d4-89c2-b415e2b98d7a',\n",
       " '980404b2-7f90-4a54-a24d-d0a419c1840e',\n",
       " 'c6be80a7-ae36-441f-8282-8dee4f9a8629',\n",
       " '2e846895-70ae-4b12-b089-32d471a8051b',\n",
       " '81ebf70d-3d11-4e12-8e8f-fc7c9f68d627',\n",
       " '44559d7e-311f-46d0-9ff8-c7ac0ef20315',\n",
       " '817198d8-47b8-49ab-b409-05388b9b6c1e',\n",
       " 'e4158d13-2433-4631-8f24-e124dd889bd9',\n",
       " '0dc3110a-376b-407a-b63c-71ee3d1a9f67',\n",
       " '3bc2641c-1902-437c-b617-d38807b48346',\n",
       " '6332face-3b98-414c-becb-be2efa8fdaef',\n",
       " 'fedd72d7-2df6-4b65-8df8-121663c5d676',\n",
       " '8271ae41-7891-498d-96e1-438f0e03a0a8',\n",
       " '5d79483a-e9d3-46c4-a4d7-64ab35160d51',\n",
       " 'd1bfcdba-22ec-42e2-b666-4dd80654c92f',\n",
       " '45e0f635-13c5-4e11-a133-48d9f3fde98f',\n",
       " 'a5087eb9-1be9-491f-8d81-5d0931fea031',\n",
       " 'c969e704-61ff-4a82-8494-b354a0b1bee8',\n",
       " '6fd0c626-345c-4e0b-afca-8f53a0299734',\n",
       " '29990a58-8096-4d1b-b3a3-7826c96cce3b',\n",
       " 'c850b0d3-0cdb-49a3-855f-41b43b2d0f74',\n",
       " 'c33a9c4c-2674-478e-b9a3-6ab81c2b6755',\n",
       " '7c22c1e8-2ec8-4a16-8c49-a1d189bff5ca',\n",
       " '6d6fb869-5edd-4eda-8485-6d2233834195',\n",
       " '0ed855f5-fc0b-444f-9aa8-5cdb8c2b3946',\n",
       " 'ffb5777f-af09-4779-b1ba-bfa9686496c6',\n",
       " 'b9bab366-a395-4d74-8d4b-efa025e63c84',\n",
       " 'b32f1bcc-bb05-4e95-ade3-37f5f9a38eb7',\n",
       " '0811d09a-dd47-4ad2-b4c9-47a36d54db4d',\n",
       " 'ebfa7183-ef93-496a-b42d-31fa1e2625f0',\n",
       " '0b3385e9-3437-4b97-9866-017682b5750b',\n",
       " '3b5084a5-043b-4a09-b947-d9dc698651f6',\n",
       " 'ce93913f-ccc0-4fbd-831e-076ca6e56a1e',\n",
       " 'b55e58be-6a8b-436f-8f86-1f350f73f482',\n",
       " 'd8344ba9-3c73-4b06-baa0-c94889168e73',\n",
       " '4ae43345-ac6b-4129-be5e-b8192acc9140',\n",
       " 'fcb1f7cd-db4b-46b2-8d1d-d4aa7c5bf5f4',\n",
       " '9352142a-ad29-4cee-ad00-f614a4c3be55',\n",
       " '96453ed3-8c3a-48b2-868c-4b5beed41088',\n",
       " '7488568c-e440-49f6-992a-28a0c03c52dd',\n",
       " '363b7d6f-a79d-4619-ae2d-93bf42be39f9',\n",
       " '9d41dd39-9f16-4600-9284-46c526897f64',\n",
       " 'a440389f-dc39-4ef6-94ff-efcea0d174da',\n",
       " '8385ff8f-6fe0-4d17-a9a1-3b59f76f47a8',\n",
       " '8ffedd0e-d8cd-4c4a-a638-19b5c8efbc38',\n",
       " '41a8752d-aa78-496f-8c72-667e123715d3',\n",
       " '2b01503a-5219-4a6f-bfcb-6ca0b1ff6860',\n",
       " '0b0f6ac4-821b-49e1-901f-f10e4395845a',\n",
       " 'ee59df17-fd9e-4464-b590-a1299fb69f5c',\n",
       " 'ea65ebf3-ab86-4015-914c-849dbc8106f6',\n",
       " '8d12c3f2-02e5-4bdd-8363-9b341bedae9e',\n",
       " 'c9c3dadb-1b6f-48d7-8220-50ba31880b04',\n",
       " '07f2dfe2-a880-4ee0-b11e-c667975530d0',\n",
       " '9d962595-1e3c-47b6-b4f1-1cb043146ef6']"
      ]
     },
     "execution_count": 35,
     "metadata": {},
     "output_type": "execute_result"
    }
   ],
   "source": [
    "vector_store.add_texts(texts=texts_pdf, metadatas=pdf_metadata)\n"
   ]
  },
  {
   "cell_type": "code",
   "execution_count": 36,
   "metadata": {},
   "outputs": [
    {
     "name": "stdout",
     "output_type": "stream",
     "text": [
      "FAISS index saved to faiss_index.bin\n"
     ]
    }
   ],
   "source": [
    "# saving again updated vector data base\n",
    "\n",
    "# Path to save the FAISS index\n",
    "faiss_index_path = \"faiss_index.bin\"\n",
    "\n",
    "# Save the FAISS index to disk\n",
    "vector_store.save_local(faiss_index_path)\n",
    "print(\"FAISS index saved to\", faiss_index_path)"
   ]
  },
  {
   "cell_type": "code",
   "execution_count": 53,
   "metadata": {},
   "outputs": [
    {
     "data": {
      "text/plain": [
       "[Document(metadata={'source': 'pdf', 'page': 132}, page_content='Cataract: 10% of the sum insured or INR 25,000, whichever is less and 10% co -pay for all dependents  \\nin Base Policy and 15% co -pay in Top up policy for parents /In-laws  only .')]"
      ]
     },
     "execution_count": 53,
     "metadata": {},
     "output_type": "execute_result"
    }
   ],
   "source": [
    "query = \"What is cataract policy\"\n",
    "results = vector_store.similarity_search(query, k=1) \n",
    "results"
   ]
  },
  {
   "cell_type": "code",
   "execution_count": 41,
   "metadata": {},
   "outputs": [
    {
     "name": "stdout",
     "output_type": "stream",
     "text": [
      "Matched Text: Cataract: 10% of the sum insured or INR 25,000, whichever is less and 10% co -pay for all dependents  \n",
      "in Base Policy and 15% co -pay in Top up policy for parents /In-laws  only .\n",
      "Metadata: {'source': 'pdf', 'page': 132}\n"
     ]
    }
   ],
   "source": [
    "# Display the results\n",
    "for result in results:\n",
    "    print(\"Matched Text:\", result.page_content)\n",
    "    print(\"Metadata:\", result.metadata)"
   ]
  },
  {
   "cell_type": "code",
   "execution_count": 44,
   "metadata": {},
   "outputs": [
    {
     "data": {
      "text/plain": [
       "'Cataract: 10% of the sum insured or INR 25,000, whichever is less and 10% co -pay for all dependents  \\nin Base Policy and 15% co -pay in Top up policy for parents /In-laws  only .'"
      ]
     },
     "execution_count": 44,
     "metadata": {},
     "output_type": "execute_result"
    }
   ],
   "source": [
    "result.page_content"
   ]
  },
  {
   "cell_type": "code",
   "execution_count": 55,
   "metadata": {},
   "outputs": [],
   "source": [
    "# above now we can see faiss vector store capable to answer either from faq or pdf"
   ]
  },
  {
   "cell_type": "code",
   "execution_count": 52,
   "metadata": {},
   "outputs": [
    {
     "name": "stdout",
     "output_type": "stream",
     "text": [
      "** Cataract coverage:**\n",
      "\n",
      "* In the base policy, you're covered for **10% of your sum insured or INR 25,000, whichever is less**. \n",
      "* There's a **10% co-pay** for dependents.\n",
      "\n",
      "* In the top-up policy, the co-pay for parents/in-laws is slightly higher at **15%**.\n"
     ]
    }
   ],
   "source": [
    "# as we can see that output is not that much human readable to taking help of llm to do so\n",
    "\n",
    "new_prompt = \"\"\"You are an expert conversational assistant. Based on the question {user_query} \n",
    "and the response {faiss_response}, summarize and refine the answer into a more concise, human-readable, and \n",
    "conversational format. Ensure the response is clear, engaging, and uses minimal words while maintaining the \n",
    "essence of the original answer.\n",
    "\"\"\"\n",
    "\n",
    "prompt_structure = PromptTemplate(input_variables=[\"user_query\",\"faiss_response\"], template = new_prompt)\n",
    "\n",
    "\n",
    "chain = prompt_structure | llm\n",
    "human_response = chain.invoke(input = {\"user_query\":query,\"faiss_response\":result.page_content})\n",
    "\n",
    "print(human_response)\n"
   ]
  },
  {
   "cell_type": "code",
   "execution_count": null,
   "metadata": {},
   "outputs": [],
   "source": [
    "# now above answer seems perfect"
   ]
  },
  {
   "cell_type": "markdown",
   "metadata": {},
   "source": [
    "# Auto completion"
   ]
  },
  {
   "cell_type": "code",
   "execution_count": 56,
   "metadata": {},
   "outputs": [],
   "source": [
    "# auto completion\n",
    "\n",
    "llm = OllamaLLM(model=\"gemma\")\n",
    "\n",
    "\n",
    "embeddings = GoogleGenerativeAIEmbeddings(model=\"models/embedding-001\")\n",
    "faiss_index_path = \"faiss_index.bin\"\n",
    "\n",
    "\n",
    "final_vectors = FAISS.load_local(faiss_index_path, embeddings, allow_dangerous_deserialization=True)"
   ]
  },
  {
   "cell_type": "code",
   "execution_count": 57,
   "metadata": {},
   "outputs": [],
   "source": [
    "prompt_template = \"\"\"\n",
    "User's partial query {partial_query} and {faiss_context}\n",
    "\n",
    "Try to create three user question starts with {partial_query}\n",
    "\n",
    "that an user can ask with the mentioned context.Response should not contain any sepcial line chacter and \n",
    "\n",
    "all user question should be point wise with numberings\n",
    "\"\"\"\n",
    "\n",
    "# Create the PromptTemplate object\n",
    "prompt = PromptTemplate(input_variables=[\"partial_query\",\"faiss_context\"], template=prompt_template)\n",
    "\n",
    "\n",
    "# Set up LLMChain\n",
    "chain = prompt | llm"
   ]
  },
  {
   "cell_type": "code",
   "execution_count": 58,
   "metadata": {},
   "outputs": [],
   "source": [
    "partial_query = \"what is my insurance\"\n",
    "faiss_context = final_vectors.similarity_search(partial_query,k = 1)\n",
    "faiss_context_1 = \" \".join([i.page_content for i in faiss_context])\n"
   ]
  },
  {
   "cell_type": "code",
   "execution_count": 59,
   "metadata": {},
   "outputs": [
    {
     "data": {
      "text/plain": [
       "'X-rays and such similar expens es that are medically necessary, subject to Policy T&C.'"
      ]
     },
     "execution_count": 59,
     "metadata": {},
     "output_type": "execute_result"
    }
   ],
   "source": [
    "faiss_context_1"
   ]
  },
  {
   "cell_type": "code",
   "execution_count": 60,
   "metadata": {},
   "outputs": [],
   "source": [
    "response = chain.invoke(input={\"partial_query\":partial_query,\"faiss_context\":faiss_context_1})"
   ]
  },
  {
   "cell_type": "code",
   "execution_count": 61,
   "metadata": {},
   "outputs": [
    {
     "name": "stdout",
     "output_type": "stream",
     "text": [
      "1. What is my insurance coverage for medically necessary expenses like X-rays?\n",
      "\n",
      "\n",
      "2. What is my insurance policy's coverage for routine X-rays and other similar expenses?\n",
      "\n",
      "\n",
      "3. Can you explain what my insurance covers for medically necessary expenses, such as X-rays?\n"
     ]
    }
   ],
   "source": [
    "print(response)"
   ]
  },
  {
   "cell_type": "code",
   "execution_count": null,
   "metadata": {},
   "outputs": [],
   "source": []
  },
  {
   "cell_type": "code",
   "execution_count": null,
   "metadata": {},
   "outputs": [],
   "source": []
  },
  {
   "cell_type": "code",
   "execution_count": null,
   "metadata": {},
   "outputs": [],
   "source": []
  },
  {
   "cell_type": "code",
   "execution_count": null,
   "metadata": {},
   "outputs": [],
   "source": []
  },
  {
   "cell_type": "code",
   "execution_count": null,
   "metadata": {},
   "outputs": [],
   "source": []
  },
  {
   "cell_type": "code",
   "execution_count": null,
   "metadata": {},
   "outputs": [],
   "source": []
  }
 ],
 "metadata": {
  "kernelspec": {
   "display_name": "base",
   "language": "python",
   "name": "python3"
  },
  "language_info": {
   "codemirror_mode": {
    "name": "ipython",
    "version": 3
   },
   "file_extension": ".py",
   "mimetype": "text/x-python",
   "name": "python",
   "nbconvert_exporter": "python",
   "pygments_lexer": "ipython3",
   "version": "3.12.4"
  }
 },
 "nbformat": 4,
 "nbformat_minor": 2
}
